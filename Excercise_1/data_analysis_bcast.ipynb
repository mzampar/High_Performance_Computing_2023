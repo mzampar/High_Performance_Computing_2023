{
 "cells": [
  {
   "cell_type": "code",
   "execution_count": null,
   "metadata": {},
   "outputs": [],
   "source": [
    "import pandas as pd\n",
    "import matplotlib.pyplot as plt\n",
    "import numpy as np"
   ]
  },
  {
   "cell_type": "code",
   "execution_count": null,
   "metadata": {},
   "outputs": [],
   "source": [
    "# Define the base directory path\n",
    "base_dir = \"/Users/marcozamp/Desktop/hpc_project/Excercise_1/bcast/results\"\n",
    "\n",
    "# Define file paths using os.path.join to concatenate the base directory with the specific file names\n",
    "bcast_paths = {\n",
    "    \"bcast_binarytree\": os.path.join(base_dir, \"bcast_binarytree.csv\"),\n",
    "    \"bcast_chain\": os.path.join(base_dir, \"bcast_chain.csv\"),\n",
    "    \"bcast_default\": os.path.join(base_dir, \"bcast_default.csv\"),\n",
    "    \"bcast_linear\": os.path.join(base_dir, \"bcast_linear.csv\")\n",
    "}\n",
    "\n",
    "\n",
    "for name, path in bcast_paths.items():\n",
    "    # Read CSV into DataFrame\n",
    "    df = pd.read_csv(path)\n",
    "    # Create DataFrame with dynamic name using globals()\n",
    "    globals()[f\"df_{name}\"] = df\n",
    "\n"
   ]
  }
 ],
 "metadata": {
  "kernelspec": {
   "display_name": "Python 3",
   "language": "python",
   "name": "python3"
  },
  "language_info": {
   "name": "python",
   "version": "3.9.18"
  }
 },
 "nbformat": 4,
 "nbformat_minor": 2
}
